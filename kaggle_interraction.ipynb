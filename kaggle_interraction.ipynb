{
 "cells": [
  {
   "cell_type": "code",
   "execution_count": 1,
   "id": "4f06aead",
   "metadata": {},
   "outputs": [
    {
     "name": "stdout",
     "output_type": "stream",
     "text": [
      "Collecting kaggle\n",
      "  Downloading kaggle-1.5.12.tar.gz (58 kB)\n",
      "     ---------------------------------------- 59.0/59.0 kB 1.5 MB/s eta 0:00:00\n",
      "  Preparing metadata (setup.py): started\n",
      "  Preparing metadata (setup.py): finished with status 'done'\n",
      "Requirement already satisfied: six>=1.10 in c:\\users\\wangq\\anaconda3\\lib\\site-packages (from kaggle) (1.16.0)\n",
      "Requirement already satisfied: certifi in c:\\users\\wangq\\anaconda3\\lib\\site-packages (from kaggle) (2021.10.8)\n",
      "Requirement already satisfied: python-dateutil in c:\\users\\wangq\\anaconda3\\lib\\site-packages (from kaggle) (2.8.2)\n",
      "Requirement already satisfied: requests in c:\\users\\wangq\\anaconda3\\lib\\site-packages (from kaggle) (2.28.0)\n",
      "Requirement already satisfied: tqdm in c:\\users\\wangq\\anaconda3\\lib\\site-packages (from kaggle) (4.64.0)\n",
      "Requirement already satisfied: python-slugify in c:\\users\\wangq\\anaconda3\\lib\\site-packages (from kaggle) (5.0.2)\n",
      "Requirement already satisfied: urllib3 in c:\\users\\wangq\\anaconda3\\lib\\site-packages (from kaggle) (1.26.9)\n",
      "Requirement already satisfied: text-unidecode>=1.3 in c:\\users\\wangq\\anaconda3\\lib\\site-packages (from python-slugify->kaggle) (1.3)\n",
      "Requirement already satisfied: idna<4,>=2.5 in c:\\users\\wangq\\anaconda3\\lib\\site-packages (from requests->kaggle) (2.6)\n",
      "Requirement already satisfied: charset-normalizer~=2.0.0 in c:\\users\\wangq\\anaconda3\\lib\\site-packages (from requests->kaggle) (2.0.4)\n",
      "Requirement already satisfied: colorama in c:\\users\\wangq\\anaconda3\\lib\\site-packages (from tqdm->kaggle) (0.4.4)\n",
      "Building wheels for collected packages: kaggle\n",
      "  Building wheel for kaggle (setup.py): started\n",
      "  Building wheel for kaggle (setup.py): finished with status 'done'\n",
      "  Created wheel for kaggle: filename=kaggle-1.5.12-py3-none-any.whl size=73051 sha256=ed3e6f751e1d09dfc6b95ce2305fc725d92b1aa15c997632f89fb16bbffc2a58\n",
      "  Stored in directory: c:\\users\\wangq\\appdata\\local\\pip\\cache\\wheels\\ac\\b2\\c3\\fa4706d469b5879105991d1c8be9a3c2ef329ba9fe2ce5085e\n",
      "Successfully built kaggle\n",
      "Installing collected packages: kaggle\n",
      "Successfully installed kaggle-1.5.12\n"
     ]
    }
   ],
   "source": [
    "!pip install kaggle"
   ]
  },
  {
   "cell_type": "code",
   "execution_count": 3,
   "id": "8f0a1f1c",
   "metadata": {},
   "outputs": [],
   "source": [
    "# Fill in your user name and key from creating the kaggle account and API token file\n",
    "# import json\n",
    "# kaggle_username = \"qiwang2\"\n",
    "# kaggle_key = \"1a80c367fd8ad5689c0060e3ed09e49e\"\n",
    "\n",
    "# # Save API token the kaggle.json file\n",
    "# with open(\".kaggle/kaggle.json\", \"w\") as f:\n",
    "#     f.write(json.dumps({\"username\": kaggle_username, \"key\": kaggle_key}))"
   ]
  },
  {
   "cell_type": "code",
   "execution_count": null,
   "id": "467c1c87",
   "metadata": {},
   "outputs": [],
   "source": [
    "# # Download the dataset, it will be in a .zip file so you'll need to unzip it as well.\n",
    "# !kaggle competitions download -c bike-sharing-demand\n",
    "# # If you already downloaded it you can use the -o command to overwrite the file\n",
    "# !unzip -o bike-sharing-demand.zip"
   ]
  },
  {
   "cell_type": "code",
   "execution_count": 5,
   "id": "7b01df71",
   "metadata": {},
   "outputs": [
    {
     "name": "stdout",
     "output_type": "stream",
     "text": [
      "Successfully submitted to Bike Sharing Demand\n"
     ]
    },
    {
     "name": "stderr",
     "output_type": "stream",
     "text": [
      "\n",
      "  0%|          | 0.00/250k [00:00<?, ?B/s]\n",
      "  3%|3         | 8.00k/250k [00:00<00:03, 75.5kB/s]\n",
      " 83%|########3 | 208k/250k [00:00<00:00, 416kB/s]  \n",
      "100%|##########| 250k/250k [00:01<00:00, 182kB/s]\n"
     ]
    }
   ],
   "source": [
    "!kaggle competitions submit -c bike-sharing-demand -f output1.csv -m \"new features mixed model\""
   ]
  },
  {
   "cell_type": "code",
   "execution_count": 7,
   "id": "8b6f6da3",
   "metadata": {},
   "outputs": [
    {
     "name": "stdout",
     "output_type": "stream",
     "text": [
      "fileName                     date                 description               status    publicScore  privateScore  \n",
      "---------------------------  -------------------  ------------------------  --------  -----------  ------------  \n",
      "output1.csv                  2022-06-21 03:36:24  new features mixed model  complete  0.43614      0.43614       \n",
      "submission_new_features.csv  2022-06-21 01:12:18  new features              complete  0.69375      0.69375       \n",
      "submission.csv               2022-06-21 00:20:42  first raw submission      complete  1.81066      1.81066       \n",
      "result.csv                   2014-06-22 08:18:04  decision reg              complete  0.91832      0.91832       \n"
     ]
    }
   ],
   "source": [
    "!kaggle competitions submissions -c bike-sharing-demand"
   ]
  },
  {
   "cell_type": "code",
   "execution_count": null,
   "id": "efc95bee",
   "metadata": {},
   "outputs": [],
   "source": []
  }
 ],
 "metadata": {
  "kernelspec": {
   "display_name": "udacity-nano",
   "language": "python",
   "name": "udacity-nano"
  },
  "language_info": {
   "codemirror_mode": {
    "name": "ipython",
    "version": 3
   },
   "file_extension": ".py",
   "mimetype": "text/x-python",
   "name": "python",
   "nbconvert_exporter": "python",
   "pygments_lexer": "ipython3",
   "version": "3.7.13"
  }
 },
 "nbformat": 4,
 "nbformat_minor": 5
}
